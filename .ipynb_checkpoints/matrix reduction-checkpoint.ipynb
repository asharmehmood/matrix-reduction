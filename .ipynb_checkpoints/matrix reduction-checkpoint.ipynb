{
 "cells": [
  {
   "cell_type": "code",
   "execution_count": 8,
   "metadata": {},
   "outputs": [
    {
     "name": "stdout",
     "output_type": "stream",
     "text": [
      "final output:  []\n",
      "False\n",
      "[[[1], [1], [1]]]\n",
      "final output:  [[[1], [1], [1]]]\n",
      "False\n",
      "[[[1], [1], [1, 2]]]\n",
      "final output:  [[[1], [1], [1, 2]]]\n",
      "True\n",
      "[[[1], [1], [1, 2]], [[2], [1], [1]]]\n",
      "final output:  [[[1], [1], [1, 2]], [[2, 3], [1], [1]]]\n",
      "False\n",
      "[[[1], [1], [1, 2]], [[2, 3], [1], [1]]]\n"
     ]
    }
   ],
   "source": [
    "import itertools\n",
    "import copy\n",
    "\n",
    "mat2d=[[1, 1, 1], [1, 1, 2], [2, 1, 1], [3, 1, 1]]\n",
    "\n",
    "output_mat=[[[],[],[]]]\n",
    "final_output=[]\n",
    "x=0\n",
    "for mat in mat2d:\n",
    "    for i,val in enumerate(mat):\n",
    "        if val not in output_mat[x][i]:\n",
    "            output_mat[x][i].append(val)\n",
    "    pos_perm=list(itertools.product(*output_mat[x]))\n",
    "    pp_flag=False\n",
    "    for pp in pos_perm:\n",
    "        if list(pp) not in mat2d:\n",
    "            pp_flag=True\n",
    "       \n",
    "    if pp_flag==False:\n",
    "        final_output=copy.deepcopy(output_mat)\n",
    "    else:\n",
    "        final_output.append([[],[],[]])\n",
    "        x+=1\n",
    "        for i,val in enumerate(mat):\n",
    "            if val not in final_output[x][i]:\n",
    "                final_output[x][i].append(val)\n",
    "        output_mat=final_output\n",
    "\n",
    "\n",
    "############################ DESCRIPTION #####################################\n",
    "# Algorithm takes 2d array as input from second step.\n",
    "# It makes two 2d array, one for processing and one for final output.\n",
    "# It loops through each nested array of input array and stores each element of it in nested array individually.\n",
    "# It checks the current processed nested array (which is stored in individual array),if its \n",
    "#    combination/permutation is in input array or not.\n",
    "# If it is in input array, it means that it is reduced correctly in existing nested array.\n",
    "# It stores the nested array in final output.\n",
    "# If any combination/permutation not in input array, it means, it has to make new nested array for them.\n",
    "# It makes new nested array and store them individually like before.\n",
    "# This process/loop continues untill all the nested array are not done in input arrays.\n",
    "\n",
    "############################ TESTING #########################################\n",
    "# We input array=[[1, 1, 1], [1, 1, 2], [2, 1, 1], [3, 1, 1]] for reduction and alogrithm reduces it to\n",
    "# this array=[[[1], [1], [1, 2]], [[2, 3], [1], [1]]] ."
   ]
  }
 ],
 "metadata": {
  "kernelspec": {
   "display_name": "Python 3",
   "language": "python",
   "name": "python3"
  },
  "language_info": {
   "codemirror_mode": {
    "name": "ipython",
    "version": 3
   },
   "file_extension": ".py",
   "mimetype": "text/x-python",
   "name": "python",
   "nbconvert_exporter": "python",
   "pygments_lexer": "ipython3",
   "version": "3.6.9"
  }
 },
 "nbformat": 4,
 "nbformat_minor": 4
}
